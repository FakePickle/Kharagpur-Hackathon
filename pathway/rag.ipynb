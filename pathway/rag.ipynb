{
 "cells": [
  {
   "cell_type": "code",
   "execution_count": 5,
   "metadata": {},
   "outputs": [
    {
     "name": "stdout",
     "output_type": "stream",
     "text": [
      "Requirement already satisfied: transformers in c:\\users\\vikra\\anaconda3\\envs\\test_env\\lib\\site-packages (4.48.0)\n",
      "Requirement already satisfied: sentence-transformers in c:\\users\\vikra\\anaconda3\\envs\\test_env\\lib\\site-packages (3.3.1)\n",
      "Collecting faiss-cpu\n",
      "  Downloading faiss_cpu-1.9.0.post1-cp312-cp312-win_amd64.whl.metadata (4.5 kB)\n",
      "Requirement already satisfied: datasets in c:\\users\\vikra\\anaconda3\\envs\\test_env\\lib\\site-packages (3.2.0)\n",
      "Requirement already satisfied: filelock in c:\\users\\vikra\\anaconda3\\envs\\test_env\\lib\\site-packages (from transformers) (3.16.1)\n",
      "Requirement already satisfied: huggingface-hub<1.0,>=0.24.0 in c:\\users\\vikra\\anaconda3\\envs\\test_env\\lib\\site-packages (from transformers) (0.27.1)\n",
      "Requirement already satisfied: numpy>=1.17 in c:\\users\\vikra\\anaconda3\\envs\\test_env\\lib\\site-packages (from transformers) (2.2.1)\n",
      "Requirement already satisfied: packaging>=20.0 in c:\\users\\vikra\\anaconda3\\envs\\test_env\\lib\\site-packages (from transformers) (24.2)\n",
      "Requirement already satisfied: pyyaml>=5.1 in c:\\users\\vikra\\anaconda3\\envs\\test_env\\lib\\site-packages (from transformers) (6.0.2)\n",
      "Requirement already satisfied: regex!=2019.12.17 in c:\\users\\vikra\\anaconda3\\envs\\test_env\\lib\\site-packages (from transformers) (2024.11.6)\n",
      "Requirement already satisfied: requests in c:\\users\\vikra\\anaconda3\\envs\\test_env\\lib\\site-packages (from transformers) (2.32.3)\n",
      "Requirement already satisfied: tokenizers<0.22,>=0.21 in c:\\users\\vikra\\anaconda3\\envs\\test_env\\lib\\site-packages (from transformers) (0.21.0)\n",
      "Requirement already satisfied: safetensors>=0.4.1 in c:\\users\\vikra\\anaconda3\\envs\\test_env\\lib\\site-packages (from transformers) (0.5.2)\n",
      "Requirement already satisfied: tqdm>=4.27 in c:\\users\\vikra\\anaconda3\\envs\\test_env\\lib\\site-packages (from transformers) (4.67.1)\n",
      "Requirement already satisfied: torch>=1.11.0 in c:\\users\\vikra\\anaconda3\\envs\\test_env\\lib\\site-packages (from sentence-transformers) (2.5.1)\n",
      "Requirement already satisfied: scikit-learn in c:\\users\\vikra\\anaconda3\\envs\\test_env\\lib\\site-packages (from sentence-transformers) (1.6.1)\n",
      "Requirement already satisfied: scipy in c:\\users\\vikra\\anaconda3\\envs\\test_env\\lib\\site-packages (from sentence-transformers) (1.15.1)\n",
      "Requirement already satisfied: Pillow in c:\\users\\vikra\\anaconda3\\envs\\test_env\\lib\\site-packages (from sentence-transformers) (11.1.0)\n",
      "Requirement already satisfied: pyarrow>=15.0.0 in c:\\users\\vikra\\anaconda3\\envs\\test_env\\lib\\site-packages (from datasets) (18.1.0)\n",
      "Requirement already satisfied: dill<0.3.9,>=0.3.0 in c:\\users\\vikra\\anaconda3\\envs\\test_env\\lib\\site-packages (from datasets) (0.3.8)\n",
      "Requirement already satisfied: pandas in c:\\users\\vikra\\anaconda3\\envs\\test_env\\lib\\site-packages (from datasets) (2.2.3)\n",
      "Requirement already satisfied: xxhash in c:\\users\\vikra\\anaconda3\\envs\\test_env\\lib\\site-packages (from datasets) (3.5.0)\n",
      "Requirement already satisfied: multiprocess<0.70.17 in c:\\users\\vikra\\anaconda3\\envs\\test_env\\lib\\site-packages (from datasets) (0.70.16)\n",
      "Requirement already satisfied: fsspec<=2024.9.0,>=2023.1.0 in c:\\users\\vikra\\anaconda3\\envs\\test_env\\lib\\site-packages (from fsspec[http]<=2024.9.0,>=2023.1.0->datasets) (2024.9.0)\n",
      "Requirement already satisfied: aiohttp in c:\\users\\vikra\\anaconda3\\envs\\test_env\\lib\\site-packages (from datasets) (3.11.11)\n",
      "Requirement already satisfied: aiohappyeyeballs>=2.3.0 in c:\\users\\vikra\\anaconda3\\envs\\test_env\\lib\\site-packages (from aiohttp->datasets) (2.4.4)\n",
      "Requirement already satisfied: aiosignal>=1.1.2 in c:\\users\\vikra\\anaconda3\\envs\\test_env\\lib\\site-packages (from aiohttp->datasets) (1.3.2)\n",
      "Requirement already satisfied: attrs>=17.3.0 in c:\\users\\vikra\\anaconda3\\envs\\test_env\\lib\\site-packages (from aiohttp->datasets) (24.3.0)\n",
      "Requirement already satisfied: frozenlist>=1.1.1 in c:\\users\\vikra\\anaconda3\\envs\\test_env\\lib\\site-packages (from aiohttp->datasets) (1.5.0)\n",
      "Requirement already satisfied: multidict<7.0,>=4.5 in c:\\users\\vikra\\anaconda3\\envs\\test_env\\lib\\site-packages (from aiohttp->datasets) (6.1.0)\n",
      "Requirement already satisfied: propcache>=0.2.0 in c:\\users\\vikra\\anaconda3\\envs\\test_env\\lib\\site-packages (from aiohttp->datasets) (0.2.1)\n",
      "Requirement already satisfied: yarl<2.0,>=1.17.0 in c:\\users\\vikra\\anaconda3\\envs\\test_env\\lib\\site-packages (from aiohttp->datasets) (1.18.3)\n",
      "Requirement already satisfied: typing-extensions>=3.7.4.3 in c:\\users\\vikra\\anaconda3\\envs\\test_env\\lib\\site-packages (from huggingface-hub<1.0,>=0.24.0->transformers) (4.12.2)\n",
      "Requirement already satisfied: charset-normalizer<4,>=2 in c:\\users\\vikra\\anaconda3\\envs\\test_env\\lib\\site-packages (from requests->transformers) (3.4.1)\n",
      "Requirement already satisfied: idna<4,>=2.5 in c:\\users\\vikra\\anaconda3\\envs\\test_env\\lib\\site-packages (from requests->transformers) (3.10)\n",
      "Requirement already satisfied: urllib3<3,>=1.21.1 in c:\\users\\vikra\\anaconda3\\envs\\test_env\\lib\\site-packages (from requests->transformers) (2.3.0)\n",
      "Requirement already satisfied: certifi>=2017.4.17 in c:\\users\\vikra\\anaconda3\\envs\\test_env\\lib\\site-packages (from requests->transformers) (2024.12.14)\n",
      "Requirement already satisfied: networkx in c:\\users\\vikra\\anaconda3\\envs\\test_env\\lib\\site-packages (from torch>=1.11.0->sentence-transformers) (3.4.2)\n",
      "Requirement already satisfied: jinja2 in c:\\users\\vikra\\anaconda3\\envs\\test_env\\lib\\site-packages (from torch>=1.11.0->sentence-transformers) (3.1.5)\n",
      "Requirement already satisfied: setuptools in c:\\users\\vikra\\anaconda3\\envs\\test_env\\lib\\site-packages (from torch>=1.11.0->sentence-transformers) (75.1.0)\n",
      "Requirement already satisfied: sympy==1.13.1 in c:\\users\\vikra\\anaconda3\\envs\\test_env\\lib\\site-packages (from torch>=1.11.0->sentence-transformers) (1.13.1)\n",
      "Requirement already satisfied: mpmath<1.4,>=1.1.0 in c:\\users\\vikra\\anaconda3\\envs\\test_env\\lib\\site-packages (from sympy==1.13.1->torch>=1.11.0->sentence-transformers) (1.3.0)\n",
      "Requirement already satisfied: colorama in c:\\users\\vikra\\anaconda3\\envs\\test_env\\lib\\site-packages (from tqdm>=4.27->transformers) (0.4.6)\n",
      "Requirement already satisfied: python-dateutil>=2.8.2 in c:\\users\\vikra\\anaconda3\\envs\\test_env\\lib\\site-packages (from pandas->datasets) (2.9.0.post0)\n",
      "Requirement already satisfied: pytz>=2020.1 in c:\\users\\vikra\\anaconda3\\envs\\test_env\\lib\\site-packages (from pandas->datasets) (2024.2)\n",
      "Requirement already satisfied: tzdata>=2022.7 in c:\\users\\vikra\\anaconda3\\envs\\test_env\\lib\\site-packages (from pandas->datasets) (2024.2)\n",
      "Requirement already satisfied: joblib>=1.2.0 in c:\\users\\vikra\\anaconda3\\envs\\test_env\\lib\\site-packages (from scikit-learn->sentence-transformers) (1.4.2)\n",
      "Requirement already satisfied: threadpoolctl>=3.1.0 in c:\\users\\vikra\\anaconda3\\envs\\test_env\\lib\\site-packages (from scikit-learn->sentence-transformers) (3.5.0)\n",
      "Requirement already satisfied: six>=1.5 in c:\\users\\vikra\\anaconda3\\envs\\test_env\\lib\\site-packages (from python-dateutil>=2.8.2->pandas->datasets) (1.17.0)\n",
      "Requirement already satisfied: MarkupSafe>=2.0 in c:\\users\\vikra\\anaconda3\\envs\\test_env\\lib\\site-packages (from jinja2->torch>=1.11.0->sentence-transformers) (3.0.2)\n",
      "Downloading faiss_cpu-1.9.0.post1-cp312-cp312-win_amd64.whl (13.8 MB)\n",
      "   ---------------------------------------- 0.0/13.8 MB ? eta -:--:--\n",
      "   -- ------------------------------------- 0.8/13.8 MB 4.8 MB/s eta 0:00:03\n",
      "   ---- ----------------------------------- 1.6/13.8 MB 4.7 MB/s eta 0:00:03\n",
      "   ------- -------------------------------- 2.6/13.8 MB 4.6 MB/s eta 0:00:03\n",
      "   ---------- ----------------------------- 3.7/13.8 MB 4.6 MB/s eta 0:00:03\n",
      "   ------------ --------------------------- 4.5/13.8 MB 4.6 MB/s eta 0:00:03\n",
      "   --------------- ------------------------ 5.5/13.8 MB 4.7 MB/s eta 0:00:02\n",
      "   ------------------ --------------------- 6.6/13.8 MB 4.7 MB/s eta 0:00:02\n",
      "   --------------------- ------------------ 7.3/13.8 MB 4.7 MB/s eta 0:00:02\n",
      "   ------------------------ --------------- 8.4/13.8 MB 4.7 MB/s eta 0:00:02\n",
      "   -------------------------- ------------- 9.2/13.8 MB 4.7 MB/s eta 0:00:01\n",
      "   ----------------------------- ---------- 10.2/13.8 MB 4.7 MB/s eta 0:00:01\n",
      "   -------------------------------- ------- 11.3/13.8 MB 4.7 MB/s eta 0:00:01\n",
      "   ---------------------------------- ----- 12.1/13.8 MB 4.7 MB/s eta 0:00:01\n",
      "   ------------------------------------- -- 13.1/13.8 MB 4.7 MB/s eta 0:00:01\n",
      "   ---------------------------------------- 13.8/13.8 MB 4.6 MB/s eta 0:00:00\n",
      "Installing collected packages: faiss-cpu\n",
      "Successfully installed faiss-cpu-1.9.0.post1\n",
      "Note: you may need to restart the kernel to use updated packages.\n"
     ]
    }
   ],
   "source": [
    "pip install transformers sentence-transformers faiss-cpu datasets"
   ]
  },
  {
   "cell_type": "code",
   "execution_count": 6,
   "metadata": {},
   "outputs": [
    {
     "name": "stderr",
     "output_type": "stream",
     "text": [
      "c:\\Users\\vikra\\anaconda3\\envs\\test_env\\Lib\\site-packages\\tqdm\\auto.py:21: TqdmWarning: IProgress not found. Please update jupyter and ipywidgets. See https://ipywidgets.readthedocs.io/en/stable/user_install.html\n",
      "  from .autonotebook import tqdm as notebook_tqdm\n",
      "c:\\Users\\vikra\\anaconda3\\envs\\test_env\\Lib\\site-packages\\huggingface_hub\\file_download.py:140: UserWarning: `huggingface_hub` cache-system uses symlinks by default to efficiently store duplicated files but your machine does not support them in C:\\Users\\vikra\\.cache\\huggingface\\hub\\models--sentence-transformers--all-MiniLM-L6-v2. Caching files will still work but in a degraded version that might require more space on your disk. This warning can be disabled by setting the `HF_HUB_DISABLE_SYMLINKS_WARNING` environment variable. For more details, see https://huggingface.co/docs/huggingface_hub/how-to-cache#limitations.\n",
      "To support symlinks on Windows, you either need to activate Developer Mode or to run Python as an administrator. In order to activate developer mode, see this article: https://docs.microsoft.com/en-us/windows/apps/get-started/enable-your-device-for-development\n",
      "  warnings.warn(message)\n"
     ]
    },
    {
     "name": "stdout",
     "output_type": "stream",
     "text": [
      "Added 2 documents to the index.\n"
     ]
    }
   ],
   "source": [
    "from sentence_transformers import SentenceTransformer\n",
    "import faiss\n",
    "import numpy as np\n",
    "\n",
    "# Load embedding model\n",
    "embedding_model = SentenceTransformer('all-MiniLM-L6-v2')\n",
    "\n",
    "# Prepare corpus\n",
    "corpus = [\n",
    "    \"Content of document 1.\",\n",
    "    \"Content of document 2.\",\n",
    "]\n",
    "corpus_embeddings = embedding_model.encode(corpus, convert_to_tensor=False)\n",
    "\n",
    "# Create FAISS index\n",
    "d = corpus_embeddings.shape[1]\n",
    "index = faiss.IndexFlatL2(d)  # L2 distance metric\n",
    "index.add(np.array(corpus_embeddings))\n",
    "print(f\"Added {index.ntotal} documents to the index.\")"
   ]
  },
  {
   "cell_type": "code",
   "execution_count": 7,
   "metadata": {},
   "outputs": [
    {
     "name": "stdout",
     "output_type": "stream",
     "text": [
      "Top 3 documents: [ 0  1 -1], Scores: [1.0664676e-01 3.2043615e-01 3.4028235e+38]\n"
     ]
    }
   ],
   "source": [
    "query = \"What is the content of document 1?\"\n",
    "query_embedding = embedding_model.encode(query, convert_to_tensor=False)\n",
    "\n",
    "# Retrieve top 3 results\n",
    "D, I = index.search(np.array([query_embedding]), k=3)  # Distances and indices\n",
    "print(f\"Top 3 documents: {I[0]}, Scores: {D[0]}\")"
   ]
  },
  {
   "cell_type": "code",
   "execution_count": 8,
   "metadata": {},
   "outputs": [
    {
     "name": "stderr",
     "output_type": "stream",
     "text": [
      "c:\\Users\\vikra\\anaconda3\\envs\\test_env\\Lib\\site-packages\\huggingface_hub\\file_download.py:140: UserWarning: `huggingface_hub` cache-system uses symlinks by default to efficiently store duplicated files but your machine does not support them in C:\\Users\\vikra\\.cache\\huggingface\\hub\\models--t5-small. Caching files will still work but in a degraded version that might require more space on your disk. This warning can be disabled by setting the `HF_HUB_DISABLE_SYMLINKS_WARNING` environment variable. For more details, see https://huggingface.co/docs/huggingface_hub/how-to-cache#limitations.\n",
      "To support symlinks on Windows, you either need to activate Developer Mode or to run Python as an administrator. In order to activate developer mode, see this article: https://docs.microsoft.com/en-us/windows/apps/get-started/enable-your-device-for-development\n",
      "  warnings.warn(message)\n",
      "Device set to use cpu\n"
     ]
    },
    {
     "name": "stdout",
     "output_type": "stream",
     "text": [
      "Generated Response: Answer the question: What is the content of document 1?\n"
     ]
    }
   ],
   "source": [
    "from transformers import pipeline\n",
    "\n",
    "# Load a generative model (e.g., T5 or GPT)\n",
    "generator = pipeline(\"text2text-generation\", model=\"t5-small\")\n",
    "\n",
    "# Retrieve a document from the corpus and pass it to the generator\n",
    "retrieved_docs = [corpus[i] for i in I[0]]\n",
    "context = \" \".join(retrieved_docs)\n",
    "prompt = f\"Based on the following documents: {context}. Answer the question: {query}\"\n",
    "\n",
    "# Generate a response\n",
    "response = generator(prompt, max_length=100)\n",
    "print(f\"Generated Response: {response[0]['generated_text']}\")"
   ]
  },
  {
   "cell_type": "code",
   "execution_count": 9,
   "metadata": {},
   "outputs": [
    {
     "name": "stdout",
     "output_type": "stream",
     "text": [
      "RAG Response: Answer the question: What is the content of document 1?\n"
     ]
    }
   ],
   "source": [
    "def rag_pipeline(query, corpus, index, embedding_model, generator):\n",
    "    # Retrieve relevant documents\n",
    "    query_embedding = embedding_model.encode(query, convert_to_tensor=False)\n",
    "    D, I = index.search(np.array([query_embedding]), k=3)\n",
    "    retrieved_docs = [corpus[i] for i in I[0]]\n",
    "    \n",
    "    # Generate response based on retrieved documents\n",
    "    context = \" \".join(retrieved_docs)\n",
    "    prompt = f\"Based on the following documents: {context}. Answer the question: {query}\"\n",
    "    response = generator(prompt, max_length=100)\n",
    "    return response[0]['generated_text']\n",
    "\n",
    "# Example usage\n",
    "response = rag_pipeline(query, corpus, index, embedding_model, generator)\n",
    "print(f\"RAG Response: {response}\")"
   ]
  },
  {
   "cell_type": "code",
   "execution_count": 10,
   "metadata": {},
   "outputs": [
    {
     "name": "stdout",
     "output_type": "stream",
     "text": [
      "Collecting fastapi\n",
      "  Downloading fastapi-0.115.6-py3-none-any.whl.metadata (27 kB)\n",
      "Collecting uvicorn\n",
      "  Downloading uvicorn-0.34.0-py3-none-any.whl.metadata (6.5 kB)\n",
      "Collecting starlette<0.42.0,>=0.40.0 (from fastapi)\n",
      "  Downloading starlette-0.41.3-py3-none-any.whl.metadata (6.0 kB)\n",
      "Collecting pydantic!=1.8,!=1.8.1,!=2.0.0,!=2.0.1,!=2.1.0,<3.0.0,>=1.7.4 (from fastapi)\n",
      "  Downloading pydantic-2.10.5-py3-none-any.whl.metadata (30 kB)\n",
      "Requirement already satisfied: typing-extensions>=4.8.0 in c:\\users\\vikra\\anaconda3\\envs\\test_env\\lib\\site-packages (from fastapi) (4.12.2)\n",
      "Collecting click>=7.0 (from uvicorn)\n",
      "  Using cached click-8.1.8-py3-none-any.whl.metadata (2.3 kB)\n",
      "Collecting h11>=0.8 (from uvicorn)\n",
      "  Using cached h11-0.14.0-py3-none-any.whl.metadata (8.2 kB)\n",
      "Requirement already satisfied: colorama in c:\\users\\vikra\\anaconda3\\envs\\test_env\\lib\\site-packages (from click>=7.0->uvicorn) (0.4.6)\n",
      "Collecting annotated-types>=0.6.0 (from pydantic!=1.8,!=1.8.1,!=2.0.0,!=2.0.1,!=2.1.0,<3.0.0,>=1.7.4->fastapi)\n",
      "  Using cached annotated_types-0.7.0-py3-none-any.whl.metadata (15 kB)\n",
      "Collecting pydantic-core==2.27.2 (from pydantic!=1.8,!=1.8.1,!=2.0.0,!=2.0.1,!=2.1.0,<3.0.0,>=1.7.4->fastapi)\n",
      "  Downloading pydantic_core-2.27.2-cp312-cp312-win_amd64.whl.metadata (6.7 kB)\n",
      "Collecting anyio<5,>=3.4.0 (from starlette<0.42.0,>=0.40.0->fastapi)\n",
      "  Downloading anyio-4.8.0-py3-none-any.whl.metadata (4.6 kB)\n",
      "Requirement already satisfied: idna>=2.8 in c:\\users\\vikra\\anaconda3\\envs\\test_env\\lib\\site-packages (from anyio<5,>=3.4.0->starlette<0.42.0,>=0.40.0->fastapi) (3.10)\n",
      "Collecting sniffio>=1.1 (from anyio<5,>=3.4.0->starlette<0.42.0,>=0.40.0->fastapi)\n",
      "  Using cached sniffio-1.3.1-py3-none-any.whl.metadata (3.9 kB)\n",
      "Downloading fastapi-0.115.6-py3-none-any.whl (94 kB)\n",
      "Downloading uvicorn-0.34.0-py3-none-any.whl (62 kB)\n",
      "Using cached click-8.1.8-py3-none-any.whl (98 kB)\n",
      "Using cached h11-0.14.0-py3-none-any.whl (58 kB)\n",
      "Downloading pydantic-2.10.5-py3-none-any.whl (431 kB)\n",
      "Downloading pydantic_core-2.27.2-cp312-cp312-win_amd64.whl (2.0 MB)\n",
      "   ---------------------------------------- 0.0/2.0 MB ? eta -:--:--\n",
      "   --------------- ------------------------ 0.8/2.0 MB 4.8 MB/s eta 0:00:01\n",
      "   ------------------------------- -------- 1.6/2.0 MB 4.4 MB/s eta 0:00:01\n",
      "   ---------------------------------------- 2.0/2.0 MB 4.3 MB/s eta 0:00:00\n",
      "Downloading starlette-0.41.3-py3-none-any.whl (73 kB)\n",
      "Using cached annotated_types-0.7.0-py3-none-any.whl (13 kB)\n",
      "Downloading anyio-4.8.0-py3-none-any.whl (96 kB)\n",
      "Using cached sniffio-1.3.1-py3-none-any.whl (10 kB)\n",
      "Installing collected packages: sniffio, pydantic-core, h11, click, annotated-types, uvicorn, pydantic, anyio, starlette, fastapi\n",
      "Successfully installed annotated-types-0.7.0 anyio-4.8.0 click-8.1.8 fastapi-0.115.6 h11-0.14.0 pydantic-2.10.5 pydantic-core-2.27.2 sniffio-1.3.1 starlette-0.41.3 uvicorn-0.34.0\n",
      "Note: you may need to restart the kernel to use updated packages.\n"
     ]
    }
   ],
   "source": [
    "pip install fastapi uvicorn"
   ]
  },
  {
   "cell_type": "code",
   "execution_count": 11,
   "metadata": {},
   "outputs": [],
   "source": [
    "from fastapi import FastAPI\n",
    "\n",
    "app = FastAPI()\n",
    "\n",
    "@app.post(\"/rag\")\n",
    "def rag_api(query: str):\n",
    "    response = rag_pipeline(query, corpus, index, embedding_model, generator)\n",
    "    return {\"response\": response}\n",
    "\n",
    "# Run the app\n",
    "# uvicorn filename:app --reload"
   ]
  }
 ],
 "metadata": {
  "kernelspec": {
   "display_name": "test_env",
   "language": "python",
   "name": "python3"
  },
  "language_info": {
   "codemirror_mode": {
    "name": "ipython",
    "version": 3
   },
   "file_extension": ".py",
   "mimetype": "text/x-python",
   "name": "python",
   "nbconvert_exporter": "python",
   "pygments_lexer": "ipython3",
   "version": "3.12.8"
  }
 },
 "nbformat": 4,
 "nbformat_minor": 2
}
